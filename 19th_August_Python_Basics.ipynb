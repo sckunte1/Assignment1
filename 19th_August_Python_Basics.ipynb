{
 "cells": [
  {
   "cell_type": "markdown",
   "metadata": {},
   "source": [
    "### TOPIC: Python Basics Variable\n"
   ]
  },
  {
   "cell_type": "markdown",
   "metadata": {},
   "source": [
    "##### Q1.Declare two variables, `x` and `y`, and assign them integer values. Swap the values of these variables without using any temporary variable.\n"
   ]
  },
  {
   "cell_type": "code",
   "execution_count": 4,
   "metadata": {},
   "outputs": [
    {
     "name": "stdout",
     "output_type": "stream",
     "text": [
      "x =  41\n",
      "y =  3\n"
     ]
    }
   ],
   "source": [
    "\n",
    "x = 3\n",
    "y = 41\n",
    "x,y = y,x\n",
    "print(\"x = \",x)\n",
    "print(\"y = \",y)"
   ]
  },
  {
   "cell_type": "markdown",
   "metadata": {},
   "source": [
    "##### Q2.Create a program that calculates the area of a rectangle. Take the length and width as inputs from the user and store them in variables. Calculate and display the area."
   ]
  },
  {
   "cell_type": "code",
   "execution_count": 1,
   "metadata": {},
   "outputs": [
    {
     "name": "stdout",
     "output_type": "stream",
     "text": [
      "Length =  10\n",
      "width =  8\n",
      "area of rectangle is =  80\n"
     ]
    }
   ],
   "source": [
    "\n",
    "\n",
    "l=int(input(\"enter length of rectangle\\n\"))\n",
    "w=int(input(\"enter width of rectangle\\n\"))\n",
    "area = l*w\n",
    "print(\"Length = \",l)\n",
    "print(\"width = \",w)\n",
    "print(\"area of rectangle is = \",area)\n"
   ]
  },
  {
   "cell_type": "markdown",
   "metadata": {},
   "source": [
    "##### Q3.Write a Python program that converts temperatures from Celsius to Fahrenheit. Take the temperature in Celsius as input, store it in a variable, convert it to Fahrenheit, and display the result."
   ]
  },
  {
   "cell_type": "code",
   "execution_count": 2,
   "metadata": {},
   "outputs": [
    {
     "name": "stdout",
     "output_type": "stream",
     "text": [
      "Temperature in degree Celcius was =  37.0\n",
      "Temperature in degree Farenheit is =  98.60000000000001\n"
     ]
    }
   ],
   "source": [
    "# Q3.\n",
    "\n",
    "C = float(input(\"Enter the temperature in celcius \\n\"))\n",
    "#conversion formula for celcius to farenheit scale.\n",
    "F = C*(9/5)+32\n",
    "print(\"Temperature in degree Celcius was = \",C)\n",
    "print(\"Temperature in degree Farenheit is = \",F)"
   ]
  },
  {
   "cell_type": "markdown",
   "metadata": {},
   "source": [
    "### TOPIC: String Based Questions"
   ]
  },
  {
   "cell_type": "markdown",
   "metadata": {},
   "source": [
    "##### Q1.Write a Python program that takes a string as input and prints the length of the string."
   ]
  },
  {
   "cell_type": "code",
   "execution_count": 13,
   "metadata": {},
   "outputs": [
    {
     "name": "stdout",
     "output_type": "stream",
     "text": [
      "The length of the string is =  19\n"
     ]
    }
   ],
   "source": [
    "\n",
    "str1 = 'My name is Shreeraj'\n",
    "print(\"The length of the string is = \",len(str1))"
   ]
  },
  {
   "cell_type": "markdown",
   "metadata": {},
   "source": [
    "##### Q2.Create a program that takes a sentence from the user and counts the number of vowels (a, e, i, o, u) in the string."
   ]
  },
  {
   "cell_type": "code",
   "execution_count": 17,
   "metadata": {},
   "outputs": [
    {
     "name": "stdout",
     "output_type": "stream",
     "text": [
      "the sentence is :  my name is shreeraj kunte\n",
      "Number of vowels in the given sentence is =  8\n"
     ]
    }
   ],
   "source": [
    "\n",
    "\n",
    "#initializing  a string input by the user.\n",
    "\n",
    "str2 = input(\"enter any sentence\\n\")\n",
    "\n",
    "#creating a counter for counting no of vowels.\n",
    "count=0\n",
    "\n",
    "for i in str2:\n",
    "    if (i=='a' or i== 'e' or i=='i' or i=='o' or i=='u'):\n",
    "        count+=1\n",
    "#printing the input sentence followed by the input from the user.\n",
    "print(\"the sentence is : \",str2)\n",
    "print(\"Number of vowels in the given sentence is = \",count)\n",
    "\n"
   ]
  },
  {
   "cell_type": "markdown",
   "metadata": {},
   "source": [
    "##### Q3.Given a string, reverse the order of characters using string slicing and print the reversed string."
   ]
  },
  {
   "cell_type": "code",
   "execution_count": 21,
   "metadata": {},
   "outputs": [
    {
     "name": "stdout",
     "output_type": "stream",
     "text": [
      "the reversed string is :  .aidnI fo latipac lanoitan eht si ihleD\n"
     ]
    }
   ],
   "source": [
    "\n",
    "\n",
    "str3 = \"Delhi is the national capital of India.\"\n",
    "print(\"the reversed string is : \",str3[::-1])"
   ]
  },
  {
   "cell_type": "markdown",
   "metadata": {},
   "source": [
    "##### Q4.Write a program that takes a string as input and checks if it is a palindrome (reads the same forwards and backwards)."
   ]
  },
  {
   "cell_type": "code",
   "execution_count": 24,
   "metadata": {},
   "outputs": [
    {
     "name": "stdout",
     "output_type": "stream",
     "text": [
      "Entered palindrome word is :  malayalam\n",
      "Entered word is a palindrome word.\n"
     ]
    }
   ],
   "source": [
    "\n",
    "\n",
    "#A palindrome word is such a word when we reverse it , it is the identical word, for ex: ABBA, MALAYALAM\n",
    "\n",
    "#Getting a word input from the user. \n",
    "str4 = input(\"Enter any word\")\n",
    "\n",
    "# Initializing a check by default as true so as to verify the word to be a palindrome\n",
    "check=True\n",
    "\n",
    "for i in range(0,len(str4)//2):\n",
    "    if str4[i]!= str4[len(str4)-i-1]:\n",
    "        check = False\n",
    "        print(\"Entered word is not a palindrome word.\")\n",
    "        break\n",
    "if check:\n",
    "    print(\"Entered palindrome word is : \",str4)\n",
    "    print(\"Entered word is a palindrome word.\")\n",
    "    \n",
    "\n",
    "         \n",
    "\n",
    "\n",
    "\n"
   ]
  },
  {
   "cell_type": "markdown",
   "metadata": {},
   "source": [
    "##### Q5.Create a program that takes a string as input and removes all the spaces from it. Print the modified string without spaces."
   ]
  },
  {
   "cell_type": "code",
   "execution_count": 25,
   "metadata": {},
   "outputs": [
    {
     "name": "stdout",
     "output_type": "stream",
     "text": [
      "Original sentence is :  Hello I am Shreeraj Kunte from Raipur\n",
      "Sentence without any spaces is :  HelloIamShreerajKuntefromRaipur\n"
     ]
    }
   ],
   "source": [
    "\n",
    "#Input given by the user.\n",
    "str5 = input(\"enter any sentence \\n\")\n",
    "\n",
    "#Initializing a new string to save the new sentences without spaces since string are immutable.\n",
    "str6 = str5.replace(\" \",\"\")\n",
    " \n",
    "#Display the original entered sentence by the user and the altered sentence without any spaces.\n",
    "print(\"Original sentence is : \",str5)\n",
    "print(\"Sentence without any spaces is : \",str6)"
   ]
  },
  {
   "cell_type": "code",
   "execution_count": null,
   "metadata": {},
   "outputs": [],
   "source": []
  }
 ],
 "metadata": {
  "kernelspec": {
   "display_name": "Python 3",
   "language": "python",
   "name": "python3"
  },
  "language_info": {
   "codemirror_mode": {
    "name": "ipython",
    "version": 3
   },
   "file_extension": ".py",
   "mimetype": "text/x-python",
   "name": "python",
   "nbconvert_exporter": "python",
   "pygments_lexer": "ipython3",
   "version": "3.11.5"
  },
  "orig_nbformat": 4
 },
 "nbformat": 4,
 "nbformat_minor": 2
}
